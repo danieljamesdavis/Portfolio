{
 "cells": [
  {
   "cell_type": "markdown",
   "id": "64ae88bf",
   "metadata": {},
   "source": [
    "Today, I'll be cleaning data I found from the Pokemon game series to be used for visualizations inside Tableau. The visualizations will be displaying data that nobody asked for. But alas, I need Tableau practice and this sounds fun.\n",
    "\n",
    "The \"Pokedex\" data spans the earliest Pokemon games of Red/Blue all the way to the Pokemon X/Y games.\n",
    "\n",
    "We have four datasets at our disposal:\n",
    "1. Pokemon - The Pokedex containing the list of pokemon, their types, and their stats.\n",
    "2. Moves - The list of Pokemon moves they use in battle\n",
    "3. Evolution - The evolution information for each Pokemon\n",
    "4. TypeChart - The chart displaying what Types are effective against other types\n",
    "\n",
    "We are going to import modules and the data, and then take a first look to see if there's any initial cleaning we'd like to perform."
   ]
  },
  {
   "cell_type": "code",
   "execution_count": 28,
   "id": "19a52155",
   "metadata": {},
   "outputs": [],
   "source": [
    "#Importing modules, suppressing overwrite/chained assignment warnings\n",
    "\n",
    "import pandas as pd\n",
    "import numpy as np\n",
    "import matplotlib.pyplot as plot\n",
    "pd.options.mode.chained_assignment = None"
   ]
  },
  {
   "cell_type": "code",
   "execution_count": 29,
   "id": "8e866df5",
   "metadata": {},
   "outputs": [
    {
     "name": "stdout",
     "output_type": "stream",
     "text": [
      "         #              Name    Type  Total  HP  Attack  Defense  \\\n",
      "0      001         Bulbasaur   GRASS    318  45      49       49   \n",
      "1      001         Bulbasaur  POISON    318  45      49       49   \n",
      "2      002           Ivysaur   GRASS    405  60      62       63   \n",
      "3      002           Ivysaur  POISON    405  60      62       63   \n",
      "4      003          Venusaur   GRASS    525  80      82       83   \n",
      "5      003          Venusaur  POISON    525  80      82       83   \n",
      "6    003.1     Mega Venusaur   GRASS    625  80     100      123   \n",
      "7    003.1     Mega Venusaur  POISON    625  80     100      123   \n",
      "8      004        Charmander    FIRE    309  39      52       43   \n",
      "9      005        Charmeleon    FIRE    405  58      64       58   \n",
      "10     006         Charizard    FIRE    534  78      84       78   \n",
      "11     006         Charizard  FLYING    534  78      84       78   \n",
      "12   006.1  Mega Charizard X    FIRE    634  78     130      111   \n",
      "13   006.1  Mega Charizard X  DRAGON    634  78     130      111   \n",
      "14   006.2  Mega Charizard Y    FIRE    634  78     104       78   \n",
      "15   006.2  Mega Charizard Y  FLYING    634  78     104       78   \n",
      "16     007          Squirtle   WATER    314  44      48       65   \n",
      "17     008         Wartortle   WATER    405  59      63       80   \n",
      "18     009         Blastoise   WATER    530  79      83      100   \n",
      "19   009.1    Mega Blastoise   WATER    630  79     103      120   \n",
      "\n",
      "    Special Attack  Special Defense  Speed  \n",
      "0               65               65     45  \n",
      "1               65               65     45  \n",
      "2               80               80     60  \n",
      "3               80               80     60  \n",
      "4              100              100     80  \n",
      "5              100              100     80  \n",
      "6              122              120     80  \n",
      "7              122              120     80  \n",
      "8               60               50     65  \n",
      "9               80               65     80  \n",
      "10             109               85    100  \n",
      "11             109               85    100  \n",
      "12             130               85    100  \n",
      "13             130               85    100  \n",
      "14             159              115    100  \n",
      "15             159              115    100  \n",
      "16              50               64     43  \n",
      "17              65               80     58  \n",
      "18              85              105     78  \n",
      "19             135              115     78  \n"
     ]
    }
   ],
   "source": [
    "#Importing the data from each sheet of the excel file\n",
    "\n",
    "spreadsheet = pd.ExcelFile(\"pokemon.xlsx\")\n",
    "pokedex = pd.read_excel(spreadsheet,\"Pokemon\")\n",
    "moves = pd.read_excel(spreadsheet,\"Moves\")\n",
    "evolution = pd.read_excel(spreadsheet,\"Evolution\")\n",
    "typechart = pd.read_excel(spreadsheet,\"TypeChart\")\n",
    "print(pokedex.head(20))"
   ]
  },
  {
   "cell_type": "markdown",
   "id": "93b5ac26",
   "metadata": {},
   "source": [
    "At quick glance, we can see duplicate entries for every Pokemon in the dataset. If we look closer, these duplicate entries have all the exact same information except for that the \"Type\" column has a different value.\n",
    "\n",
    "Drawing upon my knowledge of the games, all Pokemon have at least one type, and a portion of them have two types. We can represent this more cleanly by transforming our \"Type\" column into a \"Type1\" and \"Type2\" column. Having duplicate rows would make any analysis or visualization of this data tedious, so we will perform this clean below."
   ]
  },
  {
   "cell_type": "code",
   "execution_count": 22,
   "id": "3ac966ea",
   "metadata": {},
   "outputs": [
    {
     "name": "stdout",
     "output_type": "stream",
     "text": [
      "        #              Name  Type1   Type2  Total  HP  Attack  Defense  \\\n",
      "0     001         Bulbasaur  GRASS  POISON    318  45      49       49   \n",
      "1     002           Ivysaur  GRASS  POISON    405  60      62       63   \n",
      "2     003          Venusaur  GRASS  POISON    525  80      82       83   \n",
      "3   003.1     Mega Venusaur  GRASS  POISON    625  80     100      123   \n",
      "4     004        Charmander   FIRE    None    309  39      52       43   \n",
      "5     005        Charmeleon   FIRE    None    405  58      64       58   \n",
      "6     006         Charizard   FIRE  FLYING    534  78      84       78   \n",
      "7   006.1  Mega Charizard X   FIRE  DRAGON    634  78     130      111   \n",
      "8   006.2  Mega Charizard Y   FIRE  FLYING    634  78     104       78   \n",
      "9     007          Squirtle  WATER    None    314  44      48       65   \n",
      "\n",
      "   Special Attack  Special Defense  Speed  \n",
      "0              65               65     45  \n",
      "1              80               80     60  \n",
      "2             100              100     80  \n",
      "3             122              120     80  \n",
      "4              60               50     65  \n",
      "5              80               65     80  \n",
      "6             109               85    100  \n",
      "7             130               85    100  \n",
      "8             159              115    100  \n",
      "9              50               64     43  \n",
      "         #                   Name   Type1   Type2  Total   HP  Attack  \\\n",
      "763  711.1  Gourgeist- Small Size   GHOST   GRASS    494   55      85   \n",
      "764  711.2  Gourgeist- Large Size   GHOST   GRASS    494   75      95   \n",
      "765  711.3   Gourgeist-Super Size   GHOST   GRASS    494   85     100   \n",
      "766    712               Bergmite     ICE    None    304   55      69   \n",
      "767    713                Avalugg     ICE    None    514   95     117   \n",
      "768    714                 Noibat  FLYING  DRAGON    245   40      30   \n",
      "769    715                Noivern  FLYING  DRAGON    535   85      70   \n",
      "770    716                Xerneas   FAIRY    None    680  126     131   \n",
      "771    717                Yveltal    DARK  FLYING    680  126     131   \n",
      "772    718                Zygarde  DRAGON  GROUND    600  108     100   \n",
      "\n",
      "     Defense  Special Attack  Special Defense  Speed  \n",
      "763      122              58               75     99  \n",
      "764      122              58               75     69  \n",
      "765      122              58               75     54  \n",
      "766       85              32               35     28  \n",
      "767      184              44               46     28  \n",
      "768       35              45               40     55  \n",
      "769       80              97               80    123  \n",
      "770       95             131               98     99  \n",
      "771       95             131               98     99  \n",
      "772      121              81               95     95  \n"
     ]
    }
   ],
   "source": [
    "#Reassigning Type to Type1 and Type2 columns\n",
    "counter = 0\n",
    "pokedex[\"Type1\"] = 0\n",
    "pokedex[\"Type2\"] = None\n",
    "\n",
    "while counter < (len(pokedex)-1):\n",
    "    if pokedex[\"Name\"][counter] == pokedex[\"Name\"][counter+1]:\n",
    "        pokedex[\"Type1\"][counter] = pokedex[\"Type\"][counter]\n",
    "        pokedex[\"Type2\"][counter] = pokedex[\"Type\"][counter+1]\n",
    "    else:\n",
    "        pokedex[\"Type1\"][counter] = pokedex[\"Type\"][counter]\n",
    "        pokedex[\"Type2\"][counter] = None\n",
    "    counter += 1\n",
    "\n",
    "#Finding our duplicate entries so we can drop them\n",
    "counter = 0\n",
    "indices = []\n",
    "while counter < (len(pokedex)-1):\n",
    "    if counter != 0:\n",
    "        if (pokedex[\"Name\"][counter] == pokedex[\"Name\"][counter-1]):\n",
    "            indices.append(counter)\n",
    "    counter += 1\n",
    "    \n",
    "#Adding the last index manually for ease of coding\n",
    "indices.append(1167)\n",
    "\n",
    "#Dropping the duplicate entries\n",
    "pokedex.drop(indices, inplace = True)\n",
    "\n",
    "#Deleting the Type column and rearranging the column order so Type1 and Type2 take its place\n",
    "pokedex.drop([\"Type\"], axis = 1, inplace = True)\n",
    "Type1 = pokedex.pop(\"Type1\")\n",
    "Type2 = pokedex.pop(\"Type2\")\n",
    "pokedex.insert(2, \"Type1\", Type1)\n",
    "pokedex.insert(3, \"Type2\", Type2)\n",
    "\n",
    "#Reindexing our rows to reflect the removal of the duplicate entries\n",
    "newindices = pd.Series(range(0,len(pokedex)))\n",
    "pokedex = pokedex.set_index(newindices)\n",
    "\n",
    "#Checking the result\n",
    "print(pokedex.head(10))\n",
    "print(pokedex.tail(10))"
   ]
  },
  {
   "cell_type": "markdown",
   "id": "11c892ff",
   "metadata": {},
   "source": [
    "Now, we can re-export this data back to a new excel with our changes, as well as any other cleans we might want to do, which would be inserted before the following block."
   ]
  },
  {
   "cell_type": "code",
   "execution_count": 23,
   "id": "9c42e4f8",
   "metadata": {},
   "outputs": [],
   "source": [
    "# Initiating our workbook xlsx file\n",
    "\n",
    "write = pd.ExcelWriter('Pokemon_Clean.xlsx', engine='xlsxwriter')\n",
    "\n",
    "#Writing each sheet page of the workbook\n",
    "\n",
    "pokedex.to_excel(write, sheet_name='Pokemon') \n",
    "moves.to_excel(write, sheet_name='Moves') \n",
    "evolution.to_excel(write, sheet_name='Evolution') \n",
    "typechart.to_excel(write, sheet_name='TypeChart')\n",
    "\n",
    "# Closes writer and outputs clean dataset - commented out to avoid repeatedly outputting files.\n",
    "\n",
    "# write.save()\n"
   ]
  },
  {
   "cell_type": "markdown",
   "id": "6f8b8344",
   "metadata": {},
   "source": [
    "Besides the cleaning of duplicate entries because of types, there really isn't anything else to do with this data to achieve my first goals with it. Perhaps more to come!"
   ]
  }
 ],
 "metadata": {
  "kernelspec": {
   "display_name": "Python 3 (ipykernel)",
   "language": "python",
   "name": "python3"
  },
  "language_info": {
   "codemirror_mode": {
    "name": "ipython",
    "version": 3
   },
   "file_extension": ".py",
   "mimetype": "text/x-python",
   "name": "python",
   "nbconvert_exporter": "python",
   "pygments_lexer": "ipython3",
   "version": "3.9.7"
  }
 },
 "nbformat": 4,
 "nbformat_minor": 5
}
